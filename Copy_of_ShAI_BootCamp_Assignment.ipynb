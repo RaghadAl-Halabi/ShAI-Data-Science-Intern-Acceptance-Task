{
 "cells": [
  {
   "cell_type": "markdown",
   "metadata": {
    "id": "4jqEyRFCSr59"
   },
   "source": [
    "\n",
    "# Raghad Alhalabi\n",
    "\n"
   ]
  },
  {
   "cell_type": "markdown",
   "metadata": {
    "id": "9veqgG-LVKd3"
   },
   "source": [
    "# About Dataset\n",
    "salaries dataset generally provides information about the employees of an organization in relation to their compensation. It typically includes details such as how much each employee is paid (their salary), their job titles, the departments they work in, and possibly additional information like their level of experience, education, and employment history within the organization."
   ]
  },
  {
   "cell_type": "markdown",
   "metadata": {
    "id": "cZwHdpBfVzOh"
   },
   "source": [
    "# Features\n",
    "- 'Id'\n",
    "- 'EmployeeName'\n",
    "- 'JobTitle'\n",
    "- 'BasePay'\n",
    "- 'OvertimePay'\n",
    "- 'OtherPay'\n",
    "- 'Benefits'\n",
    "- 'TotalPay' -> salary\n",
    "- 'TotalPayBenefits'\n",
    "- 'Year'\n",
    "- 'Notes'\n",
    "- 'Agency'\n",
    "- 'Status'\n"
   ]
  },
  {
   "cell_type": "markdown",
   "metadata": {
    "id": "X1VJposzVrSF"
   },
   "source": [
    "# Tasks\n",
    "\n",
    "1. **Basic Data Exploration**: Identify the number of rows and columns in the dataset, determine the data types of each column, and check for missing values in each column.\n",
    "\n",
    "2. **Descriptive Statistics**: Calculate basic statistics mean, median, mode, minimum, and maximum salary, determine the range of salaries, and find the standard deviation.\n",
    "\n",
    "3. **Data Cleaning**: Handle missing data by suitable method with explain why you use it.\n",
    "\n",
    "4. **Basic Data Visualization**: Create histograms or bar charts to visualize the distribution of salaries, and use pie charts to represent the proportion of employees in different departments.\n",
    "\n",
    "5. **Grouped Analysis**: Group the data by one or more columns and calculate summary statistics for each group, and compare the average salaries across different groups.\n",
    "\n",
    "6. **Simple Correlation Analysis**: Identify any correlation between salary and another numerical column, and plot a scatter plot to visualize the relationship.\n",
    "\n",
    "8. **Summary of Insights**: Write a brief report summarizing the findings and insights from the analyses."
   ]
  },
  {
   "cell_type": "markdown",
   "metadata": {
    "id": "8_rNdHiGUT6A"
   },
   "source": [
    "# Very Important Note\n",
    "There is no fixed or singular solution for this assignment, so if anything is not clear, please do what you understand and provide an explanation."
   ]
  },
  {
   "cell_type": "code",
   "execution_count": null,
   "metadata": {
    "colab": {
     "base_uri": "https://localhost:8080/"
    },
    "id": "4C-k8hBoZreK",
    "outputId": "1d5782b1-6092-4d87-9516-b43fc67ffd9a"
   },
   "outputs": [],
   "source": [
    "from google.colab import drive\n",
    "drive.mount('/content/drive')"
   ]
  },
  {
   "cell_type": "code",
   "execution_count": null,
   "metadata": {
    "colab": {
     "base_uri": "https://localhost:8080/",
     "height": 206
    },
    "id": "KmZfk5xkXI2y",
    "outputId": "cce1b65c-c078-4b2a-fc9d-f99f9d7d66a1"
   },
   "outputs": [],
   "source": [
    "import pandas as pd\n",
    "import numpy as np\n",
    "import matplotlib.pyplot as plt\n",
    "import plotly.express as px\n",
    "\n",
    "\n",
    "\n",
    "# Load your dataset\n",
    "file_path1 = \"/content/drive/MyDrive/ShAI/Salaries.csv\"\n",
    "file_path2 = \"Salaries.csv\"\n",
    "df = pd.read_csv(file_path2)\n",
    "df.head()\n"
   ]
  },
  {
   "cell_type": "code",
   "execution_count": null,
   "metadata": {
    "colab": {
     "base_uri": "https://localhost:8080/"
    },
    "id": "xIT514wlvvBZ",
    "outputId": "a10eb98a-2d39-4dc4-c1b3-42be5216f3fd"
   },
   "outputs": [],
   "source": [
    "df.columns"
   ]
  },
  {
   "cell_type": "markdown",
   "metadata": {
    "id": "jQFRlGGGiIss"
   },
   "source": [
    "# 1) Basic Data Exploration"
   ]
  },
  {
   "cell_type": "markdown",
   "metadata": {
    "id": "VwqiCRzTSoeo"
   },
   "source": [
    "##  The number of rows and columns in the dataset"
   ]
  },
  {
   "cell_type": "code",
   "execution_count": null,
   "metadata": {
    "colab": {
     "base_uri": "https://localhost:8080/"
    },
    "id": "lW5fqFWyiH6x",
    "outputId": "503eb2f6-15bd-4d44-f6c8-8cb610094dcd"
   },
   "outputs": [],
   "source": [
    "df.shape"
   ]
  },
  {
   "cell_type": "markdown",
   "metadata": {},
   "source": [
    "**The number of rows is: 148654**\n",
    "\n",
    "\n",
    "**The number of columns is: 13**"
   ]
  },
  {
   "cell_type": "markdown",
   "metadata": {
    "id": "6vbtjfxnTH1V"
   },
   "source": [
    "## The data types of each column"
   ]
  },
  {
   "cell_type": "code",
   "execution_count": null,
   "metadata": {
    "id": "bbIN2ujHUyRx"
   },
   "outputs": [],
   "source": [
    "df.dtypes"
   ]
  },
  {
   "cell_type": "markdown",
   "metadata": {
    "id": "TJTEBYRMTNbx"
   },
   "source": [
    "## missing values in each column"
   ]
  },
  {
   "cell_type": "code",
   "execution_count": null,
   "metadata": {
    "colab": {
     "base_uri": "https://localhost:8080/"
    },
    "id": "_dovy31FUyUF",
    "outputId": "b12512e4-0fba-496f-b09d-687c6df37f60"
   },
   "outputs": [],
   "source": [
    "df.isna().sum()"
   ]
  },
  {
   "cell_type": "markdown",
   "metadata": {
    "id": "IaRSq2i9TRuw"
   },
   "source": [
    "# 2) Descriptive Statistics"
   ]
  },
  {
   "cell_type": "code",
   "execution_count": null,
   "metadata": {
    "colab": {
     "base_uri": "https://localhost:8080/"
    },
    "id": "vNWHEn39TWvp",
    "outputId": "c4976f17-8a8d-43f6-c98f-a5536ff127b2"
   },
   "outputs": [],
   "source": [
    "df[\"TotalPay\"].mean()"
   ]
  },
  {
   "cell_type": "code",
   "execution_count": null,
   "metadata": {
    "colab": {
     "base_uri": "https://localhost:8080/"
    },
    "id": "tUEsoieOViCM",
    "outputId": "4ab68eeb-3452-4ed9-e2c1-6cb999730e8b"
   },
   "outputs": [],
   "source": [
    "df[\"TotalPay\"].median()"
   ]
  },
  {
   "cell_type": "code",
   "execution_count": null,
   "metadata": {
    "colab": {
     "base_uri": "https://localhost:8080/"
    },
    "id": "jgWN89qGVlqn",
    "outputId": "b5cf3a75-3adb-4d9d-97d5-769189ad16f5"
   },
   "outputs": [],
   "source": [
    "df[\"TotalPay\"].min()"
   ]
  },
  {
   "cell_type": "code",
   "execution_count": null,
   "metadata": {
    "colab": {
     "base_uri": "https://localhost:8080/"
    },
    "id": "pTh7myQzVxZF",
    "outputId": "64488e0b-d3bb-4c77-a1b6-e658547564de"
   },
   "outputs": [],
   "source": [
    "df[\"TotalPay\"].max()"
   ]
  },
  {
   "cell_type": "code",
   "execution_count": null,
   "metadata": {
    "colab": {
     "base_uri": "https://localhost:8080/"
    },
    "id": "d42bMOqaW6yE",
    "outputId": "7c9faab5-a7a4-4740-d510-81e955fd8f1b"
   },
   "outputs": [],
   "source": [
    "df[\"TotalPay\"].std()"
   ]
  },
  {
   "cell_type": "markdown",
   "metadata": {},
   "source": [
    "Another way:"
   ]
  },
  {
   "cell_type": "code",
   "execution_count": null,
   "metadata": {},
   "outputs": [],
   "source": [
    "df.describe()"
   ]
  },
  {
   "cell_type": "markdown",
   "metadata": {
    "id": "Fip92NSaXlHD"
   },
   "source": [
    "# 3) Data Cleaning"
   ]
  },
  {
   "cell_type": "markdown",
   "metadata": {},
   "source": [
    "**We can see that all the values of the columns: Notes and Status are NAN, so we can just drop them as they don't provide any information**"
   ]
  },
  {
   "cell_type": "code",
   "execution_count": null,
   "metadata": {},
   "outputs": [],
   "source": [
    "cleaned_df = df.drop(['Notes','Status'], axis=1)"
   ]
  },
  {
   "cell_type": "code",
   "execution_count": null,
   "metadata": {},
   "outputs": [],
   "source": [
    "cleaned_df[cleaned_df[\"OvertimePay\"].isna()]"
   ]
  },
  {
   "cell_type": "markdown",
   "metadata": {},
   "source": [
    "**We can see that only the Year and the Agency values are provided for these rows, so we can just drop them as they don't really provide useful imformation.**"
   ]
  },
  {
   "cell_type": "code",
   "execution_count": null,
   "metadata": {},
   "outputs": [],
   "source": [
    "cleaned_df = cleaned_df[~cleaned_df[\"OvertimePay\"].isna()]"
   ]
  },
  {
   "cell_type": "code",
   "execution_count": null,
   "metadata": {},
   "outputs": [],
   "source": [
    "cleaned_df[cleaned_df[\"OtherPay\"].isna()]"
   ]
  },
  {
   "cell_type": "code",
   "execution_count": null,
   "metadata": {},
   "outputs": [],
   "source": [
    "cleaned_df[cleaned_df[\"BasePay\"].isna()]"
   ]
  },
  {
   "cell_type": "markdown",
   "metadata": {},
   "source": [
    "**Since the TotalPay values are calculated by summing the values of BasePay and OvertimePay, OtherPay and as there are no NAN values in the TotalPay column and no NAN values in both the OvertimePay and the OtherPay columns anymore, we can calculate the missing values of the BasePay from their values**"
   ]
  },
  {
   "cell_type": "code",
   "execution_count": null,
   "metadata": {
    "id": "Fl_pdhEyX-6F"
   },
   "outputs": [],
   "source": [
    "cleaned_df[\"BasePay\"] = cleaned_df[\"TotalPay\"] - (cleaned_df[\"OvertimePay\"] + cleaned_df[\"OtherPay\"])"
   ]
  },
  {
   "cell_type": "code",
   "execution_count": null,
   "metadata": {},
   "outputs": [],
   "source": [
    "cleaned_df[cleaned_df[\"Benefits\"].isna()]"
   ]
  },
  {
   "cell_type": "markdown",
   "metadata": {},
   "source": [
    "**Since the TotalPayBenefits values are calculated by summing the values of Benefits and TotalPay and as there are no NAN values in both the TotalPay and TotalPayBenefits columns, we can calculate the missing values of the Benefits from their values**"
   ]
  },
  {
   "cell_type": "code",
   "execution_count": null,
   "metadata": {},
   "outputs": [],
   "source": [
    "cleaned_df[\"Benefits\"] = cleaned_df[\"TotalPayBenefits\"] - cleaned_df[\"TotalPay\"]"
   ]
  },
  {
   "cell_type": "code",
   "execution_count": null,
   "metadata": {},
   "outputs": [],
   "source": [
    "cleaned_df.isna().sum()"
   ]
  },
  {
   "cell_type": "markdown",
   "metadata": {
    "id": "1ewgidqwaG5c"
   },
   "source": [
    "# 4) Basic Data Visualization"
   ]
  },
  {
   "cell_type": "code",
   "execution_count": null,
   "metadata": {
    "colab": {
     "base_uri": "https://localhost:8080/",
     "height": 489
    },
    "id": "UNHbd9mDaSeC",
    "outputId": "d769f7d0-ba67-47e4-99a8-d79c39de0308"
   },
   "outputs": [],
   "source": [
    "cleaned_df[\"TotalPay\"].hist()\n",
    "plt.xlabel('Total pay')\n",
    "plt.ylabel('# of repetition of this salary')\n",
    "plt.title('Salary Distribution')"
   ]
  },
  {
   "cell_type": "code",
   "execution_count": null,
   "metadata": {
    "colab": {
     "base_uri": "https://localhost:8080/",
     "height": 675
    },
    "id": "F81X4DLDg73T",
    "outputId": "72fa8bbc-cafb-44e3-be28-2b0ff38625ed"
   },
   "outputs": [],
   "source": [
    "# Convert 'JobTitle' to uppercase before counting\n",
    "cleaned_df['JobTitle'] = cleaned_df['JobTitle'].str.upper()\n",
    "\n",
    "# Visualization of proportion of employees in different departments using a pie chart\n",
    "department_counts = cleaned_df['JobTitle'].value_counts().head(20)\n",
    "\n",
    "plt.figure(figsize=(15, 15))\n",
    "plt.pie(department_counts, labels=department_counts.index, autopct='%1.1f%%', startangle=140)\n",
    "plt.title('Proportion of Employees in Different Departments')\n",
    "plt.show()"
   ]
  },
  {
   "cell_type": "code",
   "execution_count": null,
   "metadata": {},
   "outputs": [],
   "source": [
    "# Convert 'JobTitle' to uppercase before counting\n",
    "cleaned_df['JobTitle'] = cleaned_df['JobTitle'].str.upper()\n",
    "\n",
    "# Visualization of proportion of employees in different departments using a pie chart\n",
    "department_counts = cleaned_df['JobTitle'].value_counts().tail(40)\n",
    "\n",
    "plt.figure(figsize=(15, 15))\n",
    "plt.pie(department_counts, labels=department_counts.index, autopct='%1.1f%%', startangle=140)\n",
    "plt.title('Proportion of Employees in Different Departments')\n",
    "plt.show()"
   ]
  },
  {
   "cell_type": "markdown",
   "metadata": {},
   "source": [
    "# 5) Grouped Analysis:"
   ]
  },
  {
   "cell_type": "markdown",
   "metadata": {},
   "source": [
    "**I'll calculate the summary statistics of the Total Pay of each job title**"
   ]
  },
  {
   "cell_type": "code",
   "execution_count": null,
   "metadata": {},
   "outputs": [],
   "source": [
    "jobTitles_Statistics_Salaries = cleaned_df.groupby(['JobTitle'])['TotalPay'].agg(['median', 'mean', 'min', 'max']).reset_index()\n",
    "\n",
    "jobTitles_Statistics_Salaries"
   ]
  },
  {
   "cell_type": "markdown",
   "metadata": {},
   "source": [
    "**I'll sort the values by the mean in the descending order to show the top 20 average job titles salaries**"
   ]
  },
  {
   "cell_type": "code",
   "execution_count": null,
   "metadata": {},
   "outputs": [],
   "source": [
    "top_20_Average_Job_Titles_Salaries = jobTitles_Statistics_Salaries.sort_values(by=['mean'], ascending = False).head(20)\n",
    "top_20_Average_Job_Titles_Salaries"
   ]
  },
  {
   "cell_type": "code",
   "execution_count": null,
   "metadata": {},
   "outputs": [],
   "source": [
    "fig = px.bar(top_20_Average_Job_Titles_Salaries,x ='JobTitle', y = ['mean'])\n",
    "\n",
    "fig.update_layout(\n",
    "    xaxis=dict(\n",
    "        tickmode='array',  # Set the tick mode to 'array'\n",
    "        tickvals=top_20_Average_Job_Titles_Salaries['JobTitle'],\n",
    "        ticktext=top_20_Average_Job_Titles_Salaries['JobTitle'],\n",
    "        tickangle=45,\n",
    "        tickfont=dict(size=14)\n",
    "    )\n",
    ")\n",
    "fig.show()\n"
   ]
  },
  {
   "cell_type": "markdown",
   "metadata": {},
   "source": [
    "**I'll sort the values by the max in the descending order to show the top 20 max job titles salaries**"
   ]
  },
  {
   "cell_type": "code",
   "execution_count": null,
   "metadata": {},
   "outputs": [],
   "source": [
    "top_20_Max_Job_Titles_Salaries = jobTitles_Statistics_Salaries.sort_values(by=['max'], ascending = False).head(20)\n",
    "top_20_Max_Job_Titles_Salaries"
   ]
  },
  {
   "cell_type": "code",
   "execution_count": null,
   "metadata": {},
   "outputs": [],
   "source": [
    "fig = px.bar(top_20_Max_Job_Titles_Salaries,x ='JobTitle', y = ['max'])\n",
    "\n",
    "fig.update_layout(\n",
    "    xaxis=dict(\n",
    "        tickmode='array',  # Set the tick mode to 'array'\n",
    "        tickvals=top_20_Max_Job_Titles_Salaries['JobTitle'],\n",
    "        ticktext=top_20_Max_Job_Titles_Salaries['JobTitle'],\n",
    "        tickangle=45,\n",
    "        tickfont=dict(size=14)\n",
    "    )\n",
    ")\n",
    "fig.show()\n"
   ]
  },
  {
   "cell_type": "markdown",
   "metadata": {},
   "source": [
    "## 6) Simple Correlation Analysis"
   ]
  },
  {
   "cell_type": "code",
   "execution_count": null,
   "metadata": {},
   "outputs": [],
   "source": [
    "cleaned_df.columns"
   ]
  },
  {
   "cell_type": "code",
   "execution_count": null,
   "metadata": {},
   "outputs": [],
   "source": [
    "cleaned_df[\"TotalPay\"].corr(cleaned_df[\"BasePay\"])"
   ]
  },
  {
   "cell_type": "code",
   "execution_count": null,
   "metadata": {},
   "outputs": [],
   "source": [
    "fig = px.scatter(x=cleaned_df[\"TotalPay\"], y = cleaned_df[\"BasePay\"])\n",
    "fig.show()"
   ]
  },
  {
   "cell_type": "code",
   "execution_count": null,
   "metadata": {},
   "outputs": [],
   "source": [
    "cleaned_df[\"TotalPay\"].corr(cleaned_df[\"OvertimePay\"])"
   ]
  },
  {
   "cell_type": "code",
   "execution_count": null,
   "metadata": {},
   "outputs": [],
   "source": [
    "fig = px.scatter(x=cleaned_df[\"TotalPay\"], y = cleaned_df[\"OvertimePay\"])\n",
    "fig.show()"
   ]
  },
  {
   "cell_type": "code",
   "execution_count": null,
   "metadata": {},
   "outputs": [],
   "source": [
    "cleaned_df[\"TotalPay\"].corr(cleaned_df[\"OtherPay\"])"
   ]
  },
  {
   "cell_type": "code",
   "execution_count": null,
   "metadata": {},
   "outputs": [],
   "source": [
    "fig = px.scatter(x=cleaned_df[\"TotalPay\"], y = cleaned_df[\"OtherPay\"])\n",
    "fig.show()"
   ]
  },
  {
   "cell_type": "code",
   "execution_count": null,
   "metadata": {},
   "outputs": [],
   "source": [
    "cleaned_df[\"TotalPay\"].corr(cleaned_df[\"Benefits\"])"
   ]
  },
  {
   "cell_type": "code",
   "execution_count": null,
   "metadata": {},
   "outputs": [],
   "source": [
    "fig = px.scatter(x=cleaned_df[\"TotalPay\"], y = cleaned_df[\"Benefits\"])\n",
    "fig.show()"
   ]
  },
  {
   "cell_type": "code",
   "execution_count": null,
   "metadata": {},
   "outputs": [],
   "source": [
    "cleaned_df[\"TotalPay\"].corr(cleaned_df[\"TotalPay\"])"
   ]
  },
  {
   "cell_type": "code",
   "execution_count": null,
   "metadata": {},
   "outputs": [],
   "source": [
    "fig = px.scatter(x=cleaned_df[\"TotalPay\"], y = cleaned_df[\"TotalPay\"])\n",
    "fig.show()"
   ]
  },
  {
   "cell_type": "code",
   "execution_count": null,
   "metadata": {},
   "outputs": [],
   "source": [
    "cleaned_df[\"TotalPay\"].corr(cleaned_df[\"TotalPayBenefits\"])"
   ]
  },
  {
   "cell_type": "code",
   "execution_count": null,
   "metadata": {},
   "outputs": [],
   "source": [
    "fig = px.scatter(x=cleaned_df[\"TotalPay\"], y = cleaned_df[\"TotalPayBenefits\"])\n",
    "fig.show()"
   ]
  },
  {
   "cell_type": "code",
   "execution_count": null,
   "metadata": {},
   "outputs": [],
   "source": [
    "cleaned_df[\"TotalPay\"].corr(cleaned_df[\"Year\"])"
   ]
  },
  {
   "cell_type": "code",
   "execution_count": null,
   "metadata": {},
   "outputs": [],
   "source": [
    "fig = px.scatter(x=cleaned_df[\"TotalPay\"], y = cleaned_df[\"Year\"])\n",
    "fig.show()"
   ]
  },
  {
   "cell_type": "markdown",
   "metadata": {},
   "source": [
    "# 7) Summary of Insights:"
   ]
  },
  {
   "cell_type": "markdown",
   "metadata": {},
   "source": [
    "### The most common salary is:\n",
    "\n",
    "100000 (It's the salary of about 60000 employee)\n",
    "\n",
    "### The 5 most common Job titles:\n",
    "1- Transit Operator\n",
    "\n",
    "2- Special Nurse\n",
    "\n",
    "3- Registered Nurse\n",
    "\n",
    "4- Custodian\n",
    "\n",
    "5- Firefighter\n",
    "\n",
    "### The top 5 average job titles salaries:\n",
    "1- GENERAL MANAGER-METROPOLITAN TRANSIT AUTHORITY\t\n",
    "\n",
    "2- CHIEF INVESTMENT OFFICER\t\n",
    "\n",
    "3- CHIEF, FIRE DEPARTMENT\n",
    "\n",
    "4- CHIEF OF POLICE\t\n",
    "\n",
    "5- DEPUTY DIRECTOR OF INVESTMENTS\n",
    "\n",
    "### The top 5 max job titles salaries:\n",
    "1- GENERAL MANAGER-METROPOLITAN TRANSIT AUTHORITY\n",
    "\n",
    "2- CAPTAIN III (POLICE DEPARTMENT)\t\n",
    "\n",
    "3- DEPUTY CHIEF 3\t\n",
    "\n",
    "4- ASST MED EXAMINER\n",
    "\n",
    "5- LIEUTENANT, FIRE SUPPRESSION\t\n",
    "\n",
    "### Correlation\n",
    "There is an interesting correlation between the TotalPay and the Benefits with a value of 0.63, and it's rational taking into the account that when you got a higher salary, you will pay more benefits."
   ]
  },
  {
   "cell_type": "markdown",
   "metadata": {
    "id": "HE9jbRjcUyoX"
   },
   "source": [
    "# Good Luck!"
   ]
  }
 ],
 "metadata": {
  "colab": {
   "provenance": []
  },
  "kernelspec": {
   "display_name": "Python 3 (ipykernel)",
   "language": "python",
   "name": "python3"
  },
  "language_info": {
   "codemirror_mode": {
    "name": "ipython",
    "version": 3
   },
   "file_extension": ".py",
   "mimetype": "text/x-python",
   "name": "python",
   "nbconvert_exporter": "python",
   "pygments_lexer": "ipython3",
   "version": "3.10.8"
  }
 },
 "nbformat": 4,
 "nbformat_minor": 1
}
